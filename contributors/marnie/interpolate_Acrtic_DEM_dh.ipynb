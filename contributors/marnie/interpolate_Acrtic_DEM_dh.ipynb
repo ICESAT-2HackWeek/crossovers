{
 "cells": [
  {
   "cell_type": "markdown",
   "metadata": {},
   "source": [
    "This notebook takes the heght anomalies computed using Arctic DEM and estimate  a linear gridded time series using a 3-D Guassian interpolation. This is modeled after the Science Data Generation tutuorial from ICESAT-2 Hackweek 2020."
   ]
  },
  {
   "cell_type": "code",
   "execution_count": 1,
   "metadata": {},
   "outputs": [],
   "source": [
    "import h5py\n",
    "import numpy as np\n",
    "import cartopy.crs as ccrs\n",
    "import numpy as np\n",
    "import matplotlib.pyplot as plt\n",
    "from utils import transform_coord\n",
    "from utils import make_grid\n",
    "from utils import mad_std\n",
    "from utils import spatial_filter\n",
    "from utils import interp2d\n",
    "from utils import tiffread\n",
    "from utils import binning\n",
    "from scipy.ndimage.filters import generic_filter\n",
    "import pandas as pd"
   ]
  },
  {
   "cell_type": "code",
   "execution_count": 2,
   "metadata": {},
   "outputs": [
    {
     "name": "stdout",
     "output_type": "stream",
     "text": [
      "usage: interpgaus3d.py [-h] [-b w e s n] [-d dx dy] [-t tmin tmax dt]\n",
      "                       [-r radius] [-a alpha_d alpha_t] [-p epsg_num]\n",
      "                       [-s n_sample] [-c dim thres max] [-v x y z t s]\n",
      "                       ifile [ifile ...] ofile [ofile ...]\n",
      "\n",
      "Spatio-temporal interpolation of irregular data\n",
      "\n",
      "positional arguments:\n",
      "  ifile               name of input file (h5-format)\n",
      "  ofile               name of ouput file (h5-format)\n",
      "\n",
      "optional arguments:\n",
      "  -h, --help          show this help message and exit\n",
      "  -b w e s n          bounding box for geograph. region (deg or m), optional\n",
      "  -d dx dy            spatial resolution for grid (deg or km)\n",
      "  -t tmin tmax dt     temporal resolution for grid (months)\n",
      "  -r radius           search radius (km)\n",
      "  -a alpha_d alpha_t  spatial and temporal corr. length (km and months)\n",
      "  -p epsg_num         EPSG proj number (AnIS=3031, GrIS=3413)\n",
      "  -s n_sample         sample every n:th point in dataset\n",
      "  -c dim thres max    dim. of filter in km, sigma thres and max-value\n",
      "  -v x y z t s        name of varibales in the HDF5-file\n"
     ]
    }
   ],
   "source": [
    "!python ./interpgaus3d.py -h"
   ]
  },
  {
   "cell_type": "markdown",
   "metadata": {},
   "source": [
    "In this case, This runs a 3-D Gaussain interpolation with grid size and search raidus of 3 km with a time step of a half a week. These variables (as well as the model paramenters a and c), can and should be experimented with(we should probably increase the dt given teh amount of daat we have)."
   ]
  },
  {
   "cell_type": "code",
   "execution_count": 9,
   "metadata": {},
   "outputs": [
    {
     "name": "stdout",
     "output_type": "stream",
     "text": [
      "parameters:\n",
      "('ifile', ['/home/jovyan/shared/data-crossovers/Arctic_DEM_dh_filtered.h5'])\n",
      "('ofile', ['/home/jovyan/shared/data-crossovers/AD_filtered_data_cube.h5'])\n",
      "('bbox', [None])\n",
      "('dxy', [3.0, 3.0])\n",
      "('time', [2018.8, 2020.25, 0.125])\n",
      "('radius', [3.0])\n",
      "('alpha', [10.0, 0.125])\n",
      "('proj', ['32607'])\n",
      "('n_sample', [1])\n",
      "('filter', [100.0, 3.0, 10.0])\n",
      "('vnames', ['lon', 'lat', 'dh', 't_year', 'dummy'])\n",
      "-> reading data ...\n",
      "-> cleaning data ...\n",
      "-> creating kdtree ...\n",
      "-> interpolating data ...\n",
      "-> saving predictions to file...\n",
      "\u001b[0m"
     ]
    }
   ],
   "source": [
    "!python ./interpgaus3d.py /home/jovyan/shared/data-crossovers/Arctic_DEM_dh_filtered.h5 /home/jovyan/shared/data-crossovers/AD_filtered_data_cube.h5 -d 3 3 -t 2018.8 2020.25 0.125 \\\n",
    "-r 3 -a 10 0.125 -p 32607 -c 100 3 10 -v lon lat dh t_year dummy -s 1"
   ]
  },
  {
   "cell_type": "code",
   "execution_count": 10,
   "metadata": {},
   "outputs": [],
   "source": [
    "f = h5py.File('/home/jovyan/shared/data-crossovers/Arctic_DEM_dh.h5', 'r')"
   ]
  },
  {
   "cell_type": "code",
   "execution_count": 12,
   "metadata": {},
   "outputs": [
    {
     "name": "stdout",
     "output_type": "stream",
     "text": [
      "X                        Dataset {17, 19}\n",
      "Y                        Dataset {17, 19}\n",
      "Z_nobs                   Dataset {141, 17, 19}\n",
      "Z_pred                   Dataset {141, 17, 19}\n",
      "Z_rmse                   Dataset {141, 17, 19}\n",
      "epsg                     Dataset {SCALAR}\n",
      "time                     Dataset {141}\n"
     ]
    }
   ],
   "source": [
    "!h5ls /home/jovyan/shared/data-crossovers/AD_filtered_data_cube.h5"
   ]
  },
  {
   "cell_type": "code",
   "execution_count": 14,
   "metadata": {},
   "outputs": [],
   "source": [
    "#read in interpolated data\n",
    "with h5py.File('/home/jovyan/shared/data-crossovers/AD_filtered_data_cube.h5','r') as f_c:\n",
    "    Xi = f_c['X'][:]\n",
    "    Yi = f_c['Y'][:]\n",
    "    ti = f_c['time'][:]\n",
    "    Zi = f_c['Z_pred'][:]"
   ]
  },
  {
   "cell_type": "code",
   "execution_count": 15,
   "metadata": {},
   "outputs": [],
   "source": [
    "hi = np.nanmean(np.nanmean(Zi,1),1) #mean elevation chnage for each time step"
   ]
  },
  {
   "cell_type": "code",
   "execution_count": 16,
   "metadata": {},
   "outputs": [
    {
     "data": {
      "text/plain": [
       "Text(0, 0.5, 'Elevation residuals (m)')"
      ]
     },
     "execution_count": 16,
     "metadata": {},
     "output_type": "execute_result"
    },
    {
     "data": {
      "image/png": "[encoded data removed]",
      "text/plain": [
       "<Figure size 864x288 with 1 Axes>"
      ]
     },
     "metadata": {
      "needs_background": "light"
     },
     "output_type": "display_data"
    }
   ],
   "source": [
    "#plot time series using mena values\n",
    "plt.figure(figsize=(12,4))\n",
    "plt.plot(ti, hi,'r',linewidth=3,label='interpolated')\n",
    "plt.xlabel('Time (yrs)')\n",
    "plt.ylabel('Elevation residuals (m)')"
   ]
  },
  {
   "cell_type": "code",
   "execution_count": 17,
   "metadata": {},
   "outputs": [
    {
     "data": {
      "image/png": "[encoded data removed]",
      "text/plain": [
       "<Figure size 864x288 with 1 Axes>"
      ]
     },
     "metadata": {
      "needs_background": "light"
     },
     "output_type": "display_data"
    }
   ],
   "source": [
    "#conver time series ot elevation  change with respect to the start date\n",
    "plt.figure(figsize=(12,4))\n",
    "plt.plot(ti, hi - hi[0],'r',linewidth=2)\n",
    "plt.ylabel('Elevation Change (m)')\n",
    "plt.xlabel('Time (yrs)')\n",
    "plt.grid()\n",
    "plt.savefig('time_series_3km_v2.png')"
   ]
  },
  {
   "cell_type": "code",
   "execution_count": 18,
   "metadata": {},
   "outputs": [
    {
     "name": "stderr",
     "output_type": "stream",
     "text": [
      "/srv/conda/envs/notebook/lib/python3.7/site-packages/scipy/ndimage/filters.py:1447: RuntimeWarning: Mean of empty slice\n",
      "  cval, origins, extra_arguments, extra_keywords)\n"
     ]
    }
   ],
   "source": [
    "#estimate dh/dt (assuming it's linear)\n",
    "nt,nx,ny = Zi.shape\n",
    "rate = np.zeros((nx,ny))*np.nan\n",
    "for i in range(nx):\n",
    "    for j in range(ny):\n",
    "        dh = Zi[:,i,j]\n",
    "        if np.any(np.isnan(dh)):continue\n",
    "        rate[i,j] = np.polyfit(ti,Zi[:,i,j],1)[0]\n",
    "Zf = generic_filter(rate.copy(), np.nanmean, 2) #smooth the data - filtering parameter can be messed with"
   ]
  },
  {
   "cell_type": "code",
   "execution_count": 19,
   "metadata": {},
   "outputs": [
    {
     "name": "stdout",
     "output_type": "stream",
     "text": [
      "Trend: 0.0 (m/yr)\n"
     ]
    },
    {
     "data": {
      "image/png": "[encoded data removed]",
      "text/plain": [
       "<Figure size 648x648 with 2 Axes>"
      ]
     },
     "metadata": {
      "needs_background": "light"
     },
     "output_type": "display_data"
    }
   ],
   "source": [
    "#plot spatial distribution of dh/dt\n",
    "fig = plt.figure(figsize=(9,9))\n",
    "ax = plt.axes(projection=ccrs.UTM(7)) #or UTM(7)\n",
    "im = plt.pcolormesh(Xi, Yi, Zf, transform=ccrs.UTM(7), cmap='coolwarm_r',vmin=-1.5,vmax=0.5)\n",
    "\n",
    "plt.colorbar(label='Elevation Change (m/yr)')\n",
    "plt.clim([-2, 2])\n",
    "print('Trend:',np.around(np.nanmean(Zf),1),'(m/yr)')\n",
    "plt.savefig('gridded_ts_3km_filteted.png')\n"
   ]
  },
  {
   "cell_type": "code",
   "execution_count": 51,
   "metadata": {},
   "outputs": [
    {
     "name": "stdout",
     "output_type": "stream",
     "text": [
      "Help on function generic_filter in module scipy.ndimage.filters:\n",
      "\n",
      "generic_filter(input, function, size=None, footprint=None, output=None, mode='reflect', cval=0.0, origin=0, extra_arguments=(), extra_keywords=None)\n",
      "    Calculate a multi-dimensional filter using the given function.\n",
      "    \n",
      "    At each element the provided function is called. The input values\n",
      "    within the filter footprint at that element are passed to the function\n",
      "    as a 1D array of double values.\n",
      "    \n",
      "    Parameters\n",
      "    ----------\n",
      "    input : array_like\n",
      "        The input array.\n",
      "    function : {callable, scipy.LowLevelCallable}\n",
      "        Function to apply at each element.\n",
      "    size : scalar or tuple, optional\n",
      "        See footprint, below. Ignored if footprint is given.\n",
      "    footprint : array, optional\n",
      "        Either `size` or `footprint` must be defined.  `size` gives\n",
      "        the shape that is taken from the input array, at every element\n",
      "        position, to define the input to the filter function.\n",
      "        `footprint` is a boolean array that specifies (implicitly) a\n",
      "        shape, but also which of the elements within this shape will get\n",
      "        passed to the filter function.  Thus ``size=(n,m)`` is equivalent\n",
      "        to ``footprint=np.ones((n,m))``.  We adjust `size` to the number\n",
      "        of dimensions of the input array, so that, if the input array is\n",
      "        shape (10,10,10), and `size` is 2, then the actual size used is\n",
      "        (2,2,2). When `footprint` is given, `size` is ignored.\n",
      "    output : array or dtype, optional\n",
      "        The array in which to place the output, or the dtype of the\n",
      "        returned array. By default an array of the same dtype as input\n",
      "        will be created.\n",
      "    mode : str or sequence, optional\n",
      "        The `mode` parameter determines how the input array is extended\n",
      "        when the filter overlaps a border. By passing a sequence of modes\n",
      "        with length equal to the number of dimensions of the input array,\n",
      "        different modes can be specified along each axis. Default value is\n",
      "        'reflect'. The valid values and their behavior is as follows:\n",
      "    \n",
      "        'reflect' (`d c b a | a b c d | d c b a`)\n",
      "            The input is extended by reflecting about the edge of the last\n",
      "            pixel.\n",
      "    \n",
      "        'constant' (`k k k k | a b c d | k k k k`)\n",
      "            The input is extended by filling all values beyond the edge with\n",
      "            the same constant value, defined by the `cval` parameter.\n",
      "    \n",
      "        'nearest' (`a a a a | a b c d | d d d d`)\n",
      "            The input is extended by replicating the last pixel.\n",
      "    \n",
      "        'mirror' (`d c b | a b c d | c b a`)\n",
      "            The input is extended by reflecting about the center of the last\n",
      "            pixel.\n",
      "    \n",
      "        'wrap' (`a b c d | a b c d | a b c d`)\n",
      "            The input is extended by wrapping around to the opposite edge.\n",
      "    cval : scalar, optional\n",
      "        Value to fill past edges of input if `mode` is 'constant'. Default\n",
      "        is 0.0.\n",
      "    origin : int or sequence, optional\n",
      "        Controls the placement of the filter on the input array's pixels.\n",
      "        A value of 0 (the default) centers the filter over the pixel, with\n",
      "        positive values shifting the filter to the left, and negative ones\n",
      "        to the right. By passing a sequence of origins with length equal to\n",
      "        the number of dimensions of the input array, different shifts can\n",
      "        be specified along each axis.\n",
      "    extra_arguments : sequence, optional\n",
      "        Sequence of extra positional arguments to pass to passed function.\n",
      "    extra_keywords : dict, optional\n",
      "        dict of extra keyword arguments to pass to passed function.\n",
      "    \n",
      "    Notes\n",
      "    -----\n",
      "    This function also accepts low-level callback functions with one of\n",
      "    the following signatures and wrapped in `scipy.LowLevelCallable`:\n",
      "    \n",
      "    .. code:: c\n",
      "    \n",
      "       int callback(double *buffer, npy_intp filter_size,\n",
      "                    double *return_value, void *user_data)\n",
      "       int callback(double *buffer, intptr_t filter_size,\n",
      "                    double *return_value, void *user_data)\n",
      "    \n",
      "    The calling function iterates over the elements of the input and\n",
      "    output arrays, calling the callback function at each element. The\n",
      "    elements within the footprint of the filter at the current element are\n",
      "    passed through the ``buffer`` parameter, and the number of elements\n",
      "    within the footprint through ``filter_size``. The calculated value is\n",
      "    returned in ``return_value``. ``user_data`` is the data pointer provided\n",
      "    to `scipy.LowLevelCallable` as-is.\n",
      "    \n",
      "    The callback function must return an integer error status that is zero\n",
      "    if something went wrong and one otherwise. If an error occurs, you should\n",
      "    normally set the python error status with an informative message\n",
      "    before returning, otherwise a default error message is set by the\n",
      "    calling function.\n",
      "    \n",
      "    In addition, some other low-level function pointer specifications\n",
      "    are accepted, but these are for backward compatibility only and should\n",
      "    not be used in new code.\n",
      "\n"
     ]
    }
   ],
   "source": []
  },
  {
   "cell_type": "code",
   "execution_count": null,
   "metadata": {},
   "outputs": [],
   "source": []
  }
 ],
 "metadata": {
  "kernelspec": {
   "display_name": "Python 3",
   "language": "python",
   "name": "python3"
  },
  "language_info": {
   "codemirror_mode": {
    "name": "ipython",
    "version": 3
   },
   "file_extension": ".py",
   "mimetype": "text/x-python",
   "name": "python",
   "nbconvert_exporter": "python",
   "pygments_lexer": "ipython3",
   "version": "3.7.6"
  }
 },
 "nbformat": 4,
 "nbformat_minor": 4
}
